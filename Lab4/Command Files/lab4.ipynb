{
 "cells": [
  {
   "cell_type": "markdown",
   "metadata": {},
   "source": [
    "Laboratorium 4 Jakub Bilski 405864\n"
   ]
  },
  {
   "cell_type": "code",
   "execution_count": 1,
   "metadata": {},
   "outputs": [
    {
     "name": "stdout",
     "output_type": "stream",
     "text": [
      "      country  year   cases sex      age\n",
      "6          AD  1996     0.0   m     0-14\n",
      "5775       AD  1996     0.0   m    15-24\n",
      "11544      AD  1996     0.0   m    25-34\n",
      "17313      AD  1996     4.0   m    35-44\n",
      "23082      AD  1996     1.0   m    45-54\n",
      "...       ...   ...     ...  ..      ...\n",
      "69227      ZW  2008  2890.0   f    35-44\n",
      "74996      ZW  2008   467.0   f    45-54\n",
      "80765      ZW  2008   174.0   f    55-64\n",
      "86534      ZW  2008   105.0   f       65\n",
      "92303      ZW  2008     0.0   f  unknown\n",
      "\n",
      "[33962 rows x 5 columns]\n"
     ]
    }
   ],
   "source": [
    "import pandas as pd\n",
    "\n",
    "tb = pd.read_csv(\"../OrginalData/tb.csv\")\n",
    "\n",
    "tb.drop(columns=['new_sp', 'new_sp_m04', 'new_sp_m514', 'new_sp_f04', 'new_sp_f514'], inplace=True)\n",
    "tb.rename(columns={'new_sp_m014': 'm|0-14', 'new_sp_m1524': 'm|15-24', 'new_sp_m2534': 'm|25-34', 'new_sp_m3544': 'm|35-44', 'new_sp_m4554': 'm|45-54', 'new_sp_m5564': 'm|55-64', 'new_sp_m65': 'm|65', 'new_sp_mu': 'm|unknown', \n",
    "'new_sp_f014': 'f|0-14', 'new_sp_f1524': 'f|15-24', 'new_sp_f2534': 'f|25-34', 'new_sp_f3544': 'f|35-44', 'new_sp_f4554': 'f|45-54', 'new_sp_f5564': 'f|55-64', 'new_sp_f65': 'f|65', 'new_sp_fu': 'f|unknown'}, inplace=True)\n",
    "\n",
    "lst = [i for i in tb.columns.to_list()[2:]]\n",
    "tb = pd.melt(tb, id_vars=['iso2', 'year'], value_vars=lst, var_name='SA', value_name='cases')\n",
    "tb.dropna(inplace=True)\n",
    "tb.sort_values(['iso2', 'year'], inplace=True)\n",
    "tb[['sex', 'age']] = tb['SA'].str.split('|', expand=True)\n",
    "tb.drop(columns=['SA'], inplace=True)\n",
    "\n",
    "tb.rename(columns={'iso2' : 'country'}, inplace=True)\n",
    "tb.to_csv(\"../Analysis Data/tb.csv\")\n",
    "print(tb)"
   ]
  }
 ],
 "metadata": {
  "kernelspec": {
   "display_name": "Python 3.6.8 64-bit",
   "language": "python",
   "name": "python3"
  },
  "language_info": {
   "codemirror_mode": {
    "name": "ipython",
    "version": 3
   },
   "file_extension": ".py",
   "mimetype": "text/x-python",
   "name": "python",
   "nbconvert_exporter": "python",
   "pygments_lexer": "ipython3",
   "version": "3.6.8"
  },
  "orig_nbformat": 4,
  "vscode": {
   "interpreter": {
    "hash": "619b6aa584be507953f42e3afa4fa953f3871353a1e177b5793210ecc617c868"
   }
  }
 },
 "nbformat": 4,
 "nbformat_minor": 2
}
